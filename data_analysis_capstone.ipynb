{
 "cells": [
  {
   "cell_type": "code",
   "execution_count": 203,
   "metadata": {
    "collapsed": false
   },
   "outputs": [
    {
     "name": "stderr",
     "output_type": "stream",
     "text": [
      "b'Skipping line 12771: expected 18 fields, saw 20\\nSkipping line 12784: expected 18 fields, saw 20\\nSkipping line 12797: expected 18 fields, saw 20\\n'\n",
      "b'Skipping line 73077: expected 18 fields, saw 20\\nSkipping line 73090: expected 18 fields, saw 20\\nSkipping line 73103: expected 18 fields, saw 20\\n'\n",
      "/Users/jude/anaconda/lib/python3.5/site-packages/IPython/core/interactiveshell.py:2902: DtypeWarning: Columns (13) have mixed types. Specify dtype option on import or set low_memory=False.\n",
      "  interactivity=interactivity, compiler=compiler, result=result)\n"
     ]
    }
   ],
   "source": [
    "#anom_test = pd.read_csv('anomalous_traffic_test.csv',sep=',',header=None,\\\n",
    "#                       names=[\"index\",\"method\",\"url\",\"protocol\",\"userAgent\",\"pragma\",\"cacheControl\",\\\n",
    "#                             \"accept\",\"acceptEncoding\",\"acceptCharset\",\"acceptLanguage\",\"host\",\"connection\",\\\n",
    "#                            \"contentLength\",\"contentType\",\"cookie\",\"payload\",\"label\",\"junk1\",\"junk2\"])\n",
    "anom_test = pd.read_csv('anomalous_traffic_test.csv',encoding = 'UTF-8',sep=',',error_bad_lines=False)"
   ]
  },
  {
   "cell_type": "code",
   "execution_count": 174,
   "metadata": {
    "collapsed": false
   },
   "outputs": [
    {
     "name": "stderr",
     "output_type": "stream",
     "text": [
      "b'Skipping line 16706: expected 18 fields, saw 19\\n'\n",
      "b'Skipping line 35368: expected 18 fields, saw 20\\nSkipping line 50062: expected 18 fields, saw 20\\n'\n",
      "b'Skipping line 73322: expected 18 fields, saw 19\\nSkipping line 85964: expected 18 fields, saw 20\\nSkipping line 95918: expected 18 fields, saw 20\\n'\n",
      "/Users/jude/anaconda/lib/python3.5/site-packages/IPython/core/interactiveshell.py:2902: DtypeWarning: Columns (13) have mixed types. Specify dtype option on import or set low_memory=False.\n",
      "  interactivity=interactivity, compiler=compiler, result=result)\n"
     ]
    }
   ],
   "source": [
    "normal_test = pd.read_csv('normal_traffic_test.csv',encoding='UTF-8',sep=',',error_bad_lines=False)"
   ]
  },
  {
   "cell_type": "code",
   "execution_count": 100,
   "metadata": {
    "collapsed": false
   },
   "outputs": [
    {
     "name": "stderr",
     "output_type": "stream",
     "text": [
      "b'Skipping line 6932: expected 18 fields, saw 19\\nSkipping line 23588: expected 18 fields, saw 19\\n'\n",
      "b'Skipping line 66700: expected 18 fields, saw 19\\nSkipping line 77984: expected 18 fields, saw 19\\n'\n",
      "/Users/jude/anaconda/lib/python3.5/site-packages/IPython/core/interactiveshell.py:2902: DtypeWarning: Columns (13) have mixed types. Specify dtype option on import or set low_memory=False.\n",
      "  interactivity=interactivity, compiler=compiler, result=result)\n"
     ]
    }
   ],
   "source": [
    "normal_train = pd.read_csv('normal_traffic_training.csv',encoding='UTF-8',sep=',',error_bad_lines=False)"
   ]
  },
  {
   "cell_type": "code",
   "execution_count": 228,
   "metadata": {
    "collapsed": false
   },
   "outputs": [
    {
     "data": {
      "text/html": [
       "<div>\n",
       "<table border=\"1\" class=\"dataframe\">\n",
       "  <thead>\n",
       "    <tr style=\"text-align: right;\">\n",
       "      <th></th>\n",
       "      <th>keyword</th>\n",
       "      <th>value</th>\n",
       "    </tr>\n",
       "  </thead>\n",
       "  <tbody>\n",
       "    <tr>\n",
       "      <th>0</th>\n",
       "      <td>id</td>\n",
       "      <td>2</td>\n",
       "    </tr>\n",
       "    <tr>\n",
       "      <th>1</th>\n",
       "      <td>nombre</td>\n",
       "      <td>Jam�n Ib�rico</td>\n",
       "    </tr>\n",
       "    <tr>\n",
       "      <th>2</th>\n",
       "      <td>precio</td>\n",
       "      <td>85</td>\n",
       "    </tr>\n",
       "    <tr>\n",
       "      <th>3</th>\n",
       "      <td>cantidad</td>\n",
       "      <td>'; DROP TABLE usuarios; SELECT * FROM datos WH...</td>\n",
       "    </tr>\n",
       "    <tr>\n",
       "      <th>4</th>\n",
       "      <td>B1</td>\n",
       "      <td>A�adir al carrito</td>\n",
       "    </tr>\n",
       "    <tr>\n",
       "      <th>5</th>\n",
       "      <td>id</td>\n",
       "      <td>2/</td>\n",
       "    </tr>\n",
       "    <tr>\n",
       "      <th>6</th>\n",
       "      <td>nombre</td>\n",
       "      <td>Jam�n Ib�rico</td>\n",
       "    </tr>\n",
       "    <tr>\n",
       "      <th>7</th>\n",
       "      <td>precio</td>\n",
       "      <td>85</td>\n",
       "    </tr>\n",
       "    <tr>\n",
       "      <th>8</th>\n",
       "      <td>cantidad</td>\n",
       "      <td>49</td>\n",
       "    </tr>\n",
       "    <tr>\n",
       "      <th>9</th>\n",
       "      <td>B1</td>\n",
       "      <td>A�adir al carrito</td>\n",
       "    </tr>\n",
       "    <tr>\n",
       "      <th>10</th>\n",
       "      <td>missing</td>\n",
       "      <td>1</td>\n",
       "    </tr>\n",
       "    <tr>\n",
       "      <th>11</th>\n",
       "      <td>modo</td>\n",
       "      <td>entrar</td>\n",
       "    </tr>\n",
       "    <tr>\n",
       "      <th>12</th>\n",
       "      <td>login</td>\n",
       "      <td>bob@&lt;SCRipt&gt;alert(Paros)&lt;/scrIPT&gt;.parosproxy.org</td>\n",
       "    </tr>\n",
       "    <tr>\n",
       "      <th>13</th>\n",
       "      <td>pwd</td>\n",
       "      <td>84m3ri156</td>\n",
       "    </tr>\n",
       "    <tr>\n",
       "      <th>14</th>\n",
       "      <td>remember</td>\n",
       "      <td>on</td>\n",
       "    </tr>\n",
       "    <tr>\n",
       "      <th>15</th>\n",
       "      <td>B1</td>\n",
       "      <td>Entrar</td>\n",
       "    </tr>\n",
       "    <tr>\n",
       "      <th>16</th>\n",
       "      <td>modo</td>\n",
       "      <td>entrar</td>\n",
       "    </tr>\n",
       "    <tr>\n",
       "      <th>17</th>\n",
       "      <td>login</td>\n",
       "      <td>grimshaw</td>\n",
       "    </tr>\n",
       "    <tr>\n",
       "      <th>18</th>\n",
       "      <td>pwd</td>\n",
       "      <td>G//lAc,IAr</td>\n",
       "    </tr>\n",
       "    <tr>\n",
       "      <th>19</th>\n",
       "      <td>remember</td>\n",
       "      <td>on</td>\n",
       "    </tr>\n",
       "  </tbody>\n",
       "</table>\n",
       "</div>"
      ],
      "text/plain": [
       "     keyword                                              value\n",
       "0         id                                                  2\n",
       "1     nombre                                      Jam�n Ib�rico\n",
       "2     precio                                                 85\n",
       "3   cantidad  '; DROP TABLE usuarios; SELECT * FROM datos WH...\n",
       "4         B1                                  A�adir al carrito\n",
       "5         id                                                 2/\n",
       "6     nombre                                      Jam�n Ib�rico\n",
       "7     precio                                                 85\n",
       "8   cantidad                                                 49\n",
       "9         B1                                  A�adir al carrito\n",
       "10   missing                                                  1\n",
       "11      modo                                             entrar\n",
       "12     login   bob@<SCRipt>alert(Paros)</scrIPT>.parosproxy.org\n",
       "13       pwd                                          84m3ri156\n",
       "14  remember                                                 on\n",
       "15        B1                                             Entrar\n",
       "16      modo                                             entrar\n",
       "17     login                                           grimshaw\n",
       "18       pwd                                         G//lAc,IAr\n",
       "19  remember                                                 on"
      ]
     },
     "execution_count": 228,
     "metadata": {},
     "output_type": "execute_result"
    }
   ],
   "source": [
    "anom_test.payload = anom_test.payload.map(str)\n",
    "anom_test_payload = pd.DataFrame((item.split('=') if len(item.split('='))==2 else ['missing',1]) for item in anom_test.payload)\n",
    "anom_test_payload.columns = ['keyword','value']\n",
    "anom_test_payload.head(20)"
   ]
  },
  {
   "cell_type": "code",
   "execution_count": 229,
   "metadata": {
    "collapsed": false
   },
   "outputs": [
    {
     "data": {
      "text/html": [
       "<div>\n",
       "<table border=\"1\" class=\"dataframe\">\n",
       "  <thead>\n",
       "    <tr style=\"text-align: right;\">\n",
       "      <th></th>\n",
       "      <th>keyword</th>\n",
       "      <th>value</th>\n",
       "    </tr>\n",
       "  </thead>\n",
       "  <tbody>\n",
       "    <tr>\n",
       "      <th>0</th>\n",
       "      <td>missing</td>\n",
       "      <td>1</td>\n",
       "    </tr>\n",
       "    <tr>\n",
       "      <th>1</th>\n",
       "      <td>id</td>\n",
       "      <td>1</td>\n",
       "    </tr>\n",
       "    <tr>\n",
       "      <th>2</th>\n",
       "      <td>nombre</td>\n",
       "      <td>Jam�n Ib�rico</td>\n",
       "    </tr>\n",
       "    <tr>\n",
       "      <th>3</th>\n",
       "      <td>precio</td>\n",
       "      <td>39</td>\n",
       "    </tr>\n",
       "    <tr>\n",
       "      <th>4</th>\n",
       "      <td>cantidad</td>\n",
       "      <td>41</td>\n",
       "    </tr>\n",
       "    <tr>\n",
       "      <th>5</th>\n",
       "      <td>B1</td>\n",
       "      <td>A�adir al carrito</td>\n",
       "    </tr>\n",
       "    <tr>\n",
       "      <th>6</th>\n",
       "      <td>modo</td>\n",
       "      <td>entrar</td>\n",
       "    </tr>\n",
       "    <tr>\n",
       "      <th>7</th>\n",
       "      <td>login</td>\n",
       "      <td>caria</td>\n",
       "    </tr>\n",
       "    <tr>\n",
       "      <th>8</th>\n",
       "      <td>pwd</td>\n",
       "      <td>egipciaca</td>\n",
       "    </tr>\n",
       "    <tr>\n",
       "      <th>9</th>\n",
       "      <td>remember</td>\n",
       "      <td>off</td>\n",
       "    </tr>\n",
       "    <tr>\n",
       "      <th>10</th>\n",
       "      <td>B1</td>\n",
       "      <td>Entrar</td>\n",
       "    </tr>\n",
       "    <tr>\n",
       "      <th>11</th>\n",
       "      <td>id</td>\n",
       "      <td>2</td>\n",
       "    </tr>\n",
       "    <tr>\n",
       "      <th>12</th>\n",
       "      <td>missing</td>\n",
       "      <td>1</td>\n",
       "    </tr>\n",
       "    <tr>\n",
       "      <th>13</th>\n",
       "      <td>errorMsg</td>\n",
       "      <td>Credenciales incorrectas</td>\n",
       "    </tr>\n",
       "    <tr>\n",
       "      <th>14</th>\n",
       "      <td>missing</td>\n",
       "      <td>1</td>\n",
       "    </tr>\n",
       "    <tr>\n",
       "      <th>15</th>\n",
       "      <td>modo</td>\n",
       "      <td>insertar</td>\n",
       "    </tr>\n",
       "    <tr>\n",
       "      <th>16</th>\n",
       "      <td>precio</td>\n",
       "      <td>3230</td>\n",
       "    </tr>\n",
       "    <tr>\n",
       "      <th>17</th>\n",
       "      <td>B1</td>\n",
       "      <td>Pasar por caja</td>\n",
       "    </tr>\n",
       "    <tr>\n",
       "      <th>18</th>\n",
       "      <td>missing</td>\n",
       "      <td>1</td>\n",
       "    </tr>\n",
       "    <tr>\n",
       "      <th>19</th>\n",
       "      <td>modo</td>\n",
       "      <td>registro</td>\n",
       "    </tr>\n",
       "  </tbody>\n",
       "</table>\n",
       "</div>"
      ],
      "text/plain": [
       "     keyword                     value\n",
       "0    missing                         1\n",
       "1         id                         1\n",
       "2     nombre             Jam�n Ib�rico\n",
       "3     precio                        39\n",
       "4   cantidad                        41\n",
       "5         B1         A�adir al carrito\n",
       "6       modo                    entrar\n",
       "7      login                     caria\n",
       "8        pwd                 egipciaca\n",
       "9   remember                       off\n",
       "10        B1                    Entrar\n",
       "11        id                         2\n",
       "12   missing                         1\n",
       "13  errorMsg  Credenciales incorrectas\n",
       "14   missing                         1\n",
       "15      modo                  insertar\n",
       "16    precio                      3230\n",
       "17        B1            Pasar por caja\n",
       "18   missing                         1\n",
       "19      modo                  registro"
      ]
     },
     "execution_count": 229,
     "metadata": {},
     "output_type": "execute_result"
    }
   ],
   "source": [
    "normal_test.payload = normal_test.payload.map(str)\n",
    "normal_test_payload = pd.DataFrame((item.split('=') if len(item.split('='))==2 else ['missing',1]) \\\n",
    "                                   for item in normal_test.payload)\n",
    "normal_test_payload.columns = ['keyword','value']\n",
    "#normal_test_payload = normal_test_payload.groupby('keyword')\n",
    "normal_test_payload.head(20)"
   ]
  },
  {
   "cell_type": "code",
   "execution_count": 181,
   "metadata": {
    "collapsed": false
   },
   "outputs": [
    {
     "data": {
      "text/plain": [
       "keyword    0.192319\n",
       "value      0.192319\n",
       "dtype: float64"
      ]
     },
     "execution_count": 181,
     "metadata": {},
     "output_type": "execute_result"
    }
   ],
   "source": [
    "normal_test_payload[normal_test_payload.keyword=='missing'].count()/len(normal_test_payload)"
   ]
  },
  {
   "cell_type": "code",
   "execution_count": 182,
   "metadata": {
    "collapsed": false
   },
   "outputs": [
    {
     "data": {
      "text/plain": [
       "keyword    0.063665\n",
       "value      0.063665\n",
       "dtype: float64"
      ]
     },
     "execution_count": 182,
     "metadata": {},
     "output_type": "execute_result"
    }
   ],
   "source": [
    "anom_test_payload[anom_test_payload.keyword=='missing'].count()/len(anom_test_payload)"
   ]
  },
  {
   "cell_type": "code",
   "execution_count": 191,
   "metadata": {
    "collapsed": false
   },
   "outputs": [
    {
     "data": {
      "text/plain": [
       "count    4000.000000\n",
       "mean        1.777000\n",
       "std         0.727601\n",
       "min         1.000000\n",
       "25%         1.000000\n",
       "50%         2.000000\n",
       "75%         2.000000\n",
       "max         3.000000\n",
       "Name: value, dtype: float64"
      ]
     },
     "execution_count": 191,
     "metadata": {},
     "output_type": "execute_result"
    }
   ],
   "source": [
    "normal_test_payload.value[normal_test_payload.keyword=='id'].map(int).describe()"
   ]
  },
  {
   "cell_type": "code",
   "execution_count": 212,
   "metadata": {
    "collapsed": false
   },
   "outputs": [],
   "source": [
    "anom_test_id = pd.to_numeric(anom_test_payload.value[anom_test_payload.keyword=='id'],errors='coerce')\n",
    "#anom_test_payload.value[anom_test_payload.keyword=='id'].map(lambda s: int(s.rstrip('/')) if s[-1] == '/' else int(s))"
   ]
  },
  {
   "cell_type": "code",
   "execution_count": 217,
   "metadata": {
    "collapsed": false
   },
   "outputs": [
    {
     "data": {
      "text/plain": [
       "0.3415929203539823"
      ]
     },
     "execution_count": 217,
     "metadata": {},
     "output_type": "execute_result"
    }
   ],
   "source": [
    "len(anom_test_id[anom_test_id.isnull()])/len(anom_test_id)"
   ]
  },
  {
   "cell_type": "markdown",
   "metadata": {},
   "source": [
    "### About 1/3 of id's in the anomaly set have strangely formatted numbers whereas all id numbers in the normal test set are well-behaved and are in the range of 1 to 3"
   ]
  },
  {
   "cell_type": "code",
   "execution_count": 256,
   "metadata": {
    "collapsed": false
   },
   "outputs": [
    {
     "name": "stdout",
     "output_type": "stream",
     "text": [
      "fraction of bad cantidad data 0.0580817730225449\n"
     ]
    },
    {
     "data": {
      "text/plain": [
       "count    2465.000000\n",
       "mean       48.329817\n",
       "std        28.665919\n",
       "min         0.000000\n",
       "25%        23.000000\n",
       "50%        49.000000\n",
       "75%        73.000000\n",
       "max        98.000000\n",
       "Name: value, dtype: float64"
      ]
     },
     "execution_count": 256,
     "metadata": {},
     "output_type": "execute_result"
    }
   ],
   "source": [
    "anom_test_cantidad = pd.to_numeric(anom_test_payload.value[anom_test_payload.keyword=='cantidad'],errors='coerce')\n",
    "print('fraction of bad cantidad data',len(anom_test_cantidad[anom_test_cantidad.isnull()])/len(anom_test_cantidad))\n",
    "anom_test_cantidad.describe()"
   ]
  },
  {
   "cell_type": "code",
   "execution_count": 257,
   "metadata": {
    "collapsed": false
   },
   "outputs": [
    {
     "name": "stdout",
     "output_type": "stream",
     "text": [
      "fraction of bad cantidad data 0.0\n"
     ]
    },
    {
     "data": {
      "text/plain": [
       "count    2000.000000\n",
       "mean       50.554000\n",
       "std        28.893226\n",
       "min         0.000000\n",
       "25%        26.000000\n",
       "50%        49.000000\n",
       "75%        77.000000\n",
       "max        98.000000\n",
       "Name: value, dtype: float64"
      ]
     },
     "execution_count": 257,
     "metadata": {},
     "output_type": "execute_result"
    }
   ],
   "source": [
    "normal_test_cantidad = pd.to_numeric(normal_test_payload.value[normal_test_payload.keyword=='cantidad'],errors='coerce')\n",
    "print('fraction of bad cantidad data',len(normal_test_cantidad[normal_test_cantidad.isnull()])/len(normal_test_cantidad))\n",
    "normal_test_cantidad.describe()"
   ]
  },
  {
   "cell_type": "markdown",
   "metadata": {},
   "source": [
    "### Presence of bad cantidad data is a weak indicator of an anomaly (5.8% versus 0%)"
   ]
  },
  {
   "cell_type": "code",
   "execution_count": 233,
   "metadata": {
    "collapsed": false
   },
   "outputs": [
    {
     "data": {
      "text/plain": [
       "12      bob@<SCRipt>alert(Paros)</scrIPT>.parosproxy.org\n",
       "17                                              grimshaw\n",
       "22                                              grimshaw\n",
       "40                                                armand\n",
       "53                                                armand\n",
       "66                                              bau*gnon\n",
       "79                                                armand\n",
       "102                                             thyagara\n",
       "115                                             thyagara\n",
       "128                                             thyagara\n",
       "141                                             thyagara\n",
       "172    bob%40%3CSCRipt%3Ealert%28Paros%29%3C%2FscrIPT...\n",
       "177                                             modestin\n",
       "207                                                 audy\n",
       "220                                                 audy\n",
       "Name: value, dtype: object"
      ]
     },
     "execution_count": 233,
     "metadata": {},
     "output_type": "execute_result"
    }
   ],
   "source": [
    "anom_test_login = anom_test_payload.value[anom_test_payload.keyword=='login']\n",
    "anom_test_login.head(15)"
   ]
  },
  {
   "cell_type": "code",
   "execution_count": 234,
   "metadata": {
    "collapsed": false
   },
   "outputs": [
    {
     "data": {
      "text/plain": [
       "7         caria\n",
       "20     minthorn\n",
       "42     nataraja\n",
       "69       frayda\n",
       "82       neddie\n",
       "104      ye-sho\n",
       "131     walpole\n",
       "144       lali8\n",
       "166     kuswara\n",
       "193       yaung\n",
       "206    chopowic\n",
       "228        caty\n",
       "255      talbot\n",
       "268       bizga\n",
       "290      grogan\n",
       "Name: value, dtype: object"
      ]
     },
     "execution_count": 234,
     "metadata": {},
     "output_type": "execute_result"
    }
   ],
   "source": [
    "normal_test_login = normal_test_payload.value[normal_test_payload.keyword=='login']\n",
    "normal_test_login.head(15)"
   ]
  },
  {
   "cell_type": "code",
   "execution_count": 235,
   "metadata": {
    "collapsed": false
   },
   "outputs": [
    {
     "data": {
      "text/plain": [
       "count       6000\n",
       "unique      2741\n",
       "top       cullum\n",
       "freq           6\n",
       "Name: value, dtype: object"
      ]
     },
     "execution_count": 235,
     "metadata": {},
     "output_type": "execute_result"
    }
   ],
   "source": [
    "normal_test_login.describe()"
   ]
  },
  {
   "cell_type": "code",
   "execution_count": 236,
   "metadata": {
    "collapsed": false
   },
   "outputs": [
    {
     "data": {
      "text/plain": [
       "count        7894\n",
       "unique       1684\n",
       "top       montijo\n",
       "freq           21\n",
       "Name: value, dtype: object"
      ]
     },
     "execution_count": 236,
     "metadata": {},
     "output_type": "execute_result"
    }
   ],
   "source": [
    "anom_test_login.describe()"
   ]
  },
  {
   "cell_type": "code",
   "execution_count": 251,
   "metadata": {
    "collapsed": false
   },
   "outputs": [
    {
     "data": {
      "text/plain": [
       "64"
      ]
     },
     "execution_count": 251,
     "metadata": {},
     "output_type": "execute_result"
    }
   ],
   "source": [
    "len(anom_test_login[anom_test_login.str.contains('\\@')])+len(anom_test_login[anom_test_login.str.contains('\\.')])"
   ]
  },
  {
   "cell_type": "code",
   "execution_count": 248,
   "metadata": {
    "collapsed": false
   },
   "outputs": [
    {
     "data": {
      "text/plain": [
       "28"
      ]
     },
     "execution_count": 248,
     "metadata": {},
     "output_type": "execute_result"
    }
   ],
   "source": [
    "len(anom_test_login[anom_test_login.str.contains('%40')])+len(anom_test_login[anom_test_login.str.contains('%3C')])"
   ]
  },
  {
   "cell_type": "code",
   "execution_count": 243,
   "metadata": {
    "collapsed": false
   },
   "outputs": [
    {
     "data": {
      "text/plain": [
       "0"
      ]
     },
     "execution_count": 243,
     "metadata": {},
     "output_type": "execute_result"
    }
   ],
   "source": [
    "len(normal_test_login[normal_test_login.str.contains('@')])"
   ]
  },
  {
   "cell_type": "code",
   "execution_count": 244,
   "metadata": {
    "collapsed": false
   },
   "outputs": [
    {
     "data": {
      "text/plain": [
       "0"
      ]
     },
     "execution_count": 244,
     "metadata": {},
     "output_type": "execute_result"
    }
   ],
   "source": [
    "len(normal_test_login[normal_test_login.str.contains('%40')])"
   ]
  },
  {
   "cell_type": "markdown",
   "metadata": {},
   "source": [
    "### Having special characters like \"@\" or hex equivalent \"%40\" is a weak indicator of an anomaly"
   ]
  },
  {
   "cell_type": "code",
   "execution_count": 252,
   "metadata": {
    "collapsed": false
   },
   "outputs": [
    {
     "name": "stdout",
     "output_type": "stream",
     "text": [
      "fraction of bad precio data 0.13454913880445796\n"
     ]
    },
    {
     "data": {
      "text/plain": [
       "count    4271.000000\n",
       "mean     2465.263404\n",
       "std      3158.182414\n",
       "min        20.000000\n",
       "25%        85.000000\n",
       "50%       100.000000\n",
       "75%      4975.000000\n",
       "max      9874.000000\n",
       "Name: value, dtype: float64"
      ]
     },
     "execution_count": 252,
     "metadata": {},
     "output_type": "execute_result"
    }
   ],
   "source": [
    "anom_test_precio = pd.to_numeric(anom_test_payload.value[anom_test_payload.keyword=='precio'],errors='coerce')\n",
    "print('fraction of bad precio data',len(anom_test_precio[anom_test_precio.isnull()])/len(anom_test_precio))\n",
    "anom_test_precio.describe()"
   ]
  },
  {
   "cell_type": "code",
   "execution_count": 253,
   "metadata": {
    "collapsed": false
   },
   "outputs": [
    {
     "name": "stdout",
     "output_type": "stream",
     "text": [
      "fraction of bad precio data 0.0\n"
     ]
    },
    {
     "data": {
      "text/plain": [
       "count    4000.000000\n",
       "mean     2519.591000\n",
       "std      3181.823333\n",
       "min         2.000000\n",
       "25%        85.000000\n",
       "50%       100.000000\n",
       "75%      4922.250000\n",
       "max      9895.000000\n",
       "Name: value, dtype: float64"
      ]
     },
     "execution_count": 253,
     "metadata": {},
     "output_type": "execute_result"
    }
   ],
   "source": [
    "normal_test_precio = pd.to_numeric(normal_test_payload.value[normal_test_payload.keyword=='precio'],errors='coerce')\n",
    "print('fraction of bad precio data',len(normal_test_precio[normal_test_precio.isnull()])/len(normal_test_precio))\n",
    "normal_test_precio.describe()"
   ]
  },
  {
   "cell_type": "markdown",
   "metadata": {},
   "source": [
    "### Presence of bad presio data is also a weak indicator of an anomaly (13.4% versus 0%)"
   ]
  },
  {
   "cell_type": "code",
   "execution_count": null,
   "metadata": {
    "collapsed": false
   },
   "outputs": [],
   "source": []
  },
  {
   "cell_type": "code",
   "execution_count": null,
   "metadata": {
    "collapsed": false
   },
   "outputs": [],
   "source": []
  },
  {
   "cell_type": "code",
   "execution_count": null,
   "metadata": {
    "collapsed": false
   },
   "outputs": [],
   "source": []
  },
  {
   "cell_type": "code",
   "execution_count": null,
   "metadata": {
    "collapsed": false
   },
   "outputs": [],
   "source": []
  },
  {
   "cell_type": "code",
   "execution_count": null,
   "metadata": {
    "collapsed": false
   },
   "outputs": [],
   "source": [
    "\n"
   ]
  },
  {
   "cell_type": "code",
   "execution_count": null,
   "metadata": {
    "collapsed": false
   },
   "outputs": [],
   "source": []
  },
  {
   "cell_type": "code",
   "execution_count": 66,
   "metadata": {
    "collapsed": false
   },
   "outputs": [
    {
     "name": "stdout",
     "output_type": "stream",
     "text": [
      "Could not convert data to an integer.\n"
     ]
    }
   ],
   "source": [
    "try:\n",
    "    cantidad_num_anom_test = cantidad_anom_test.str.lstrip('cantidad=')\n",
    "    i = cantidad_num_anom_test.map(int)\n",
    "except ValueError:\n",
    "    i = None\n",
    "    print(\"Could not convert data to an integer.\")"
   ]
  },
  {
   "cell_type": "code",
   "execution_count": 68,
   "metadata": {
    "collapsed": false
   },
   "outputs": [
    {
     "name": "stdout",
     "output_type": "stream",
     "text": [
      "None\n"
     ]
    }
   ],
   "source": [
    "print(i)"
   ]
  },
  {
   "cell_type": "code",
   "execution_count": 272,
   "metadata": {
    "collapsed": false
   },
   "outputs": [
    {
     "data": {
      "text/plain": [
       "119569    http://localhost:8080/tienda1/miembros/editar.jsp\n",
       "119570    http://localhost:8080/tienda1/miembros/editar.jsp\n",
       "119571    http://localhost:8080/tienda1/miembros/editar.jsp\n",
       "119572    http://localhost:8080/tienda1/miembros/editar.jsp\n",
       "119573    http://localhost:8080/tienda1/miembros/editar.jsp\n",
       "119574    http://localhost:8080/tienda1/miembros/editar.jsp\n",
       "119575    http://localhost:8080/tienda1/miembros/editar.jsp\n",
       "119576    http://localhost:8080/tienda1/miembros/editar.jsp\n",
       "119577    http://localhost:8080/tienda1/miembros/editar.jsp\n",
       "119578    http://localhost:8080/tienda1/miembros/editar.jsp\n",
       "Name: url, dtype: object"
      ]
     },
     "execution_count": 272,
     "metadata": {},
     "output_type": "execute_result"
    }
   ],
   "source": [
    "anom_test.url.tail(10)"
   ]
  },
  {
   "cell_type": "code",
   "execution_count": 273,
   "metadata": {
    "collapsed": false
   },
   "outputs": [
    {
     "data": {
      "text/plain": [
       "103984    http://localhost:8080/tienda1/miembros/editar.jsp\n",
       "103985    http://localhost:8080/tienda1/miembros/editar.jsp\n",
       "103986    http://localhost:8080/tienda1/miembros/editar.jsp\n",
       "103987    http://localhost:8080/tienda1/miembros/editar.jsp\n",
       "103988    http://localhost:8080/tienda1/miembros/editar.jsp\n",
       "103989    http://localhost:8080/tienda1/miembros/editar.jsp\n",
       "103990    http://localhost:8080/tienda1/miembros/editar.jsp\n",
       "103991    http://localhost:8080/tienda1/miembros/editar.jsp\n",
       "103992    http://localhost:8080/tienda1/miembros/editar.jsp\n",
       "103993    http://localhost:8080/tienda1/miembros/editar.jsp\n",
       "Name: url, dtype: object"
      ]
     },
     "execution_count": 273,
     "metadata": {},
     "output_type": "execute_result"
    }
   ],
   "source": [
    "normal_test.url.tail(10)"
   ]
  },
  {
   "cell_type": "markdown",
   "metadata": {},
   "source": [
    "### URLs are not an obvious predictor either"
   ]
  },
  {
   "cell_type": "code",
   "execution_count": 263,
   "metadata": {
    "collapsed": false
   },
   "outputs": [
    {
     "data": {
      "text/plain": [
       "count    103994.000000\n",
       "mean      21268.002981\n",
       "std       10914.689771\n",
       "min           0.000000\n",
       "25%       11741.000000\n",
       "50%       23483.000000\n",
       "75%       31047.000000\n",
       "max       35999.000000\n",
       "Name: index, dtype: float64"
      ]
     },
     "execution_count": 263,
     "metadata": {},
     "output_type": "execute_result"
    }
   ],
   "source": [
    "normal_test['index'].describe()"
   ]
  },
  {
   "cell_type": "code",
   "execution_count": 265,
   "metadata": {
    "collapsed": false
   },
   "outputs": [
    {
     "data": {
      "text/plain": [
       "count    119579.000000\n",
       "mean      13631.813964\n",
       "std        7276.203104\n",
       "min           0.000000\n",
       "25%        7373.500000\n",
       "50%       14668.000000\n",
       "75%       19944.000000\n",
       "max       25064.000000\n",
       "Name: index, dtype: float64"
      ]
     },
     "execution_count": 265,
     "metadata": {},
     "output_type": "execute_result"
    }
   ],
   "source": [
    "anom_test['index'].describe()"
   ]
  },
  {
   "cell_type": "markdown",
   "metadata": {},
   "source": [
    "### Index, on the other hand, is!!!"
   ]
  },
  {
   "cell_type": "code",
   "execution_count": 278,
   "metadata": {
    "collapsed": false
   },
   "outputs": [
    {
     "data": {
      "text/plain": [
       "0    Mozilla/5.0 (compatible; Konqueror/3.5; Linux)...\n",
       "1    Mozilla/5.0 (compatible; Konqueror/3.5; Linux)...\n",
       "2    Mozilla/5.0 (compatible; Konqueror/3.5; Linux)...\n",
       "3    Mozilla/5.0 (compatible; Konqueror/3.5; Linux)...\n",
       "4    Mozilla/5.0 (compatible; Konqueror/3.5; Linux)...\n",
       "5    Mozilla/5.0 (compatible; Konqueror/3.5; Linux)...\n",
       "6    Mozilla/5.0 (compatible; Konqueror/3.5; Linux)...\n",
       "7    Mozilla/5.0 (compatible; Konqueror/3.5; Linux)...\n",
       "8    Mozilla/5.0 (compatible; Konqueror/3.5; Linux)...\n",
       "9    Mozilla/5.0 (compatible; Konqueror/3.5; Linux)...\n",
       "Name: userAgent, dtype: object"
      ]
     },
     "execution_count": 278,
     "metadata": {},
     "output_type": "execute_result"
    }
   ],
   "source": [
    "anom_test.userAgent.head(10)"
   ]
  },
  {
   "cell_type": "code",
   "execution_count": 279,
   "metadata": {
    "collapsed": false
   },
   "outputs": [
    {
     "data": {
      "text/plain": [
       "0    Mozilla/5.0 (compatible; Konqueror/3.5; Linux)...\n",
       "1    Mozilla/5.0 (compatible; Konqueror/3.5; Linux)...\n",
       "2    Mozilla/5.0 (compatible; Konqueror/3.5; Linux)...\n",
       "3    Mozilla/5.0 (compatible; Konqueror/3.5; Linux)...\n",
       "4    Mozilla/5.0 (compatible; Konqueror/3.5; Linux)...\n",
       "5    Mozilla/5.0 (compatible; Konqueror/3.5; Linux)...\n",
       "6    Mozilla/5.0 (compatible; Konqueror/3.5; Linux)...\n",
       "7    Mozilla/5.0 (compatible; Konqueror/3.5; Linux)...\n",
       "8    Mozilla/5.0 (compatible; Konqueror/3.5; Linux)...\n",
       "9    Mozilla/5.0 (compatible; Konqueror/3.5; Linux)...\n",
       "Name: userAgent, dtype: object"
      ]
     },
     "execution_count": 279,
     "metadata": {},
     "output_type": "execute_result"
    }
   ],
   "source": [
    "normal_test.userAgent.head(10)"
   ]
  },
  {
   "cell_type": "code",
   "execution_count": 281,
   "metadata": {
    "collapsed": false
   },
   "outputs": [
    {
     "data": {
      "text/plain": [
       "0    HTTP/1.1\n",
       "1    HTTP/1.1\n",
       "2    HTTP/1.1\n",
       "3    HTTP/1.1\n",
       "4    HTTP/1.1\n",
       "5    HTTP/1.1\n",
       "6    HTTP/1.1\n",
       "7    HTTP/1.1\n",
       "8    HTTP/1.1\n",
       "9    HTTP/1.1\n",
       "Name: protocol, dtype: object"
      ]
     },
     "execution_count": 281,
     "metadata": {},
     "output_type": "execute_result"
    }
   ],
   "source": [
    "anom_test.protocol.head(10)"
   ]
  },
  {
   "cell_type": "code",
   "execution_count": 282,
   "metadata": {
    "collapsed": false
   },
   "outputs": [
    {
     "data": {
      "text/plain": [
       "0    HTTP/1.1\n",
       "1    HTTP/1.1\n",
       "2    HTTP/1.1\n",
       "3    HTTP/1.1\n",
       "4    HTTP/1.1\n",
       "5    HTTP/1.1\n",
       "6    HTTP/1.1\n",
       "7    HTTP/1.1\n",
       "8    HTTP/1.1\n",
       "9    HTTP/1.1\n",
       "Name: protocol, dtype: object"
      ]
     },
     "execution_count": 282,
     "metadata": {},
     "output_type": "execute_result"
    }
   ],
   "source": [
    "normal_test.protocol.head(10)"
   ]
  },
  {
   "cell_type": "code",
   "execution_count": 283,
   "metadata": {
    "collapsed": false
   },
   "outputs": [
    {
     "data": {
      "text/plain": [
       "0    no-cache\n",
       "1    no-cache\n",
       "2    no-cache\n",
       "3    no-cache\n",
       "4    no-cache\n",
       "5    no-cache\n",
       "6    no-cache\n",
       "7    no-cache\n",
       "8    no-cache\n",
       "9    no-cache\n",
       "Name: cacheControl, dtype: object"
      ]
     },
     "execution_count": 283,
     "metadata": {},
     "output_type": "execute_result"
    }
   ],
   "source": [
    "normal_test.cacheControl.head(10)"
   ]
  },
  {
   "cell_type": "code",
   "execution_count": 284,
   "metadata": {
    "collapsed": false
   },
   "outputs": [
    {
     "data": {
      "text/plain": [
       "0    no-cache\n",
       "1    no-cache\n",
       "2    no-cache\n",
       "3    no-cache\n",
       "4    no-cache\n",
       "5    no-cache\n",
       "6    no-cache\n",
       "7    no-cache\n",
       "8    no-cache\n",
       "9    no-cache\n",
       "Name: cacheControl, dtype: object"
      ]
     },
     "execution_count": 284,
     "metadata": {},
     "output_type": "execute_result"
    }
   ],
   "source": [
    "anom_test.cacheControl.head(10)"
   ]
  },
  {
   "cell_type": "code",
   "execution_count": null,
   "metadata": {
    "collapsed": true
   },
   "outputs": [],
   "source": []
  }
 ],
 "metadata": {
  "kernelspec": {
   "display_name": "Python 3",
   "language": "python",
   "name": "python3"
  },
  "language_info": {
   "codemirror_mode": {
    "name": "ipython",
    "version": 3
   },
   "file_extension": ".py",
   "mimetype": "text/x-python",
   "name": "python",
   "nbconvert_exporter": "python",
   "pygments_lexer": "ipython3",
   "version": "3.5.1"
  }
 },
 "nbformat": 4,
 "nbformat_minor": 0
}
